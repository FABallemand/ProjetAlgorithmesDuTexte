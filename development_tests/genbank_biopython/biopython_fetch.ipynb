{
 "cells": [
  {
   "attachments": {},
   "cell_type": "markdown",
   "metadata": {},
   "source": [
    "# Downloading Files from GenBank"
   ]
  },
  {
   "attachments": {},
   "cell_type": "markdown",
   "metadata": {},
   "source": [
    "## Trying..."
   ]
  },
  {
   "cell_type": "code",
   "execution_count": 3,
   "metadata": {},
   "outputs": [
    {
     "name": "stdout",
     "output_type": "stream",
     "text": [
      "24\n",
      "['568815597', '568815596', '568815595', '568815594', '568815593', '568815592', '568815591', '568815590', '568815589', '568815588', '568815587', '568815586', '568815585', '568815584', '568815583', '568815582', '568815581', '568815580', '568815579', '568815578', '568815577', '568815576', '568815575', '568815574']\n",
      "ID: NC_000001.11\n",
      "Name: NC_000001\n",
      "Description: Homo sapiens chromosome 1, GRCh38.p14 Primary Assembly\n",
      "Database cross-references: BioProject:PRJNA168, Assembly:GCF_000001405.40\n",
      "Number of features: 1\n",
      "/molecule_type=DNA\n",
      "/topology=linear\n",
      "/data_file_division=CON\n",
      "/date=20-MAR-2023\n",
      "/accessions=['NC_000001']\n",
      "/sequence_version=11\n",
      "/keywords=['RefSeq']\n",
      "/source=Homo sapiens (human)\n",
      "/organism=Homo sapiens\n",
      "/taxonomy=['Eukaryota', 'Metazoa', 'Chordata', 'Craniata', 'Vertebrata', 'Euteleostomi', 'Mammalia', 'Eutheria', 'Euarchontoglires', 'Primates', 'Haplorrhini', 'Catarrhini', 'Hominidae', 'Homo']\n",
      "/references=[Reference(title='The DNA sequence and biological annotation of human chromosome 1', ...), Reference(title='Finishing the euchromatic sequence of the human genome', ...), Reference(title='Initial sequencing and analysis of the human genome', ...)]\n",
      "/comment=REFSEQ INFORMATION: The reference sequence is identical to\n",
      "CM000663.2.\n",
      "On Feb 3, 2014 this sequence version replaced NC_000001.10.\n",
      "Assembly Name: GRCh38.p14 Primary Assembly\n",
      "The DNA sequence is composed of genomic sequence, primarily\n",
      "finished clones that were sequenced as part of the Human Genome\n",
      "Project. PCR products and WGS shotgun sequence have been added\n",
      "where necessary to fill gaps or correct errors. All such additions\n",
      "are manually curated by GRC staff. For more information see:\n",
      "https://genomereference.org.\n",
      "/structured_comment=defaultdict(<class 'dict'>, {'Genome-Annotation-Data': {'Annotation Provider': 'NCBI RefSeq', 'Annotation Status': 'Updated annotation', 'Annotation Name': 'GCF_000001405.40-RS_2023_03', 'Annotation Pipeline': 'NCBI eukaryotic genome annotation pipeline', 'Annotation Software Version': '10.1', 'Annotation Method': 'Best-placed RefSeq; Gnomon; RefSeqFE; cmsearch; tRNAscan-SE', 'Features Annotated': 'Gene; mRNA; CDS; ncRNA', 'Annotation Date': '03/15/2023'}})\n",
      "/contig=join(gap(10000),NT_077402.3:1..197666,gap(50000),NT_187170.1:1..40302,gap(50000),NT_077912.2:1..188020,gap(50000),NT_032977.10:1..121390471,gap(50000),NT_187171.1:1..198076,gap(100),NT_187172.1:1..278512,gap(100),NT_187173.1:1..2282185,gap(100),NT_187174.1:1..63597,gap(100),NT_187175.1:1..83495,gap(100),NT_187176.1:1..251763,gap(18000000),NT_004487.20:1..80374348,gap(50000),NT_167186.2:1..25337487,gap(10000))\n",
      "Undefined sequence of length 248956422\n"
     ]
    },
    {
     "ename": "UndefinedSequenceError",
     "evalue": "Sequence content is undefined",
     "output_type": "error",
     "traceback": [
      "\u001b[0;31m---------------------------------------------------------------------------\u001b[0m",
      "\u001b[0;31mUndefinedSequenceError\u001b[0m                    Traceback (most recent call last)",
      "\u001b[1;32m/home/fabien/TPS/2A/Algorithmes du Texte/ProjetAlgorithmesDuTexte/development_tests/genbank_biopython/biopython_fetch.ipynb Cell 1\u001b[0m in \u001b[0;36m<cell line: 16>\u001b[0;34m()\u001b[0m\n\u001b[1;32m     <a href='vscode-notebook-cell:/home/fabien/TPS/2A/Algorithmes%20du%20Texte/ProjetAlgorithmesDuTexte/development_tests/genbank_biopython/biopython_fetch.ipynb#W0sZmlsZQ%3D%3D?line=19'>20</a>\u001b[0m \u001b[39mprint\u001b[39m(record)\n\u001b[1;32m     <a href='vscode-notebook-cell:/home/fabien/TPS/2A/Algorithmes%20du%20Texte/ProjetAlgorithmesDuTexte/development_tests/genbank_biopython/biopython_fetch.ipynb#W0sZmlsZQ%3D%3D?line=20'>21</a>\u001b[0m Dna_seq \u001b[39m=\u001b[39m record\u001b[39m.\u001b[39mseq\n\u001b[0;32m---> <a href='vscode-notebook-cell:/home/fabien/TPS/2A/Algorithmes%20du%20Texte/ProjetAlgorithmesDuTexte/development_tests/genbank_biopython/biopython_fetch.ipynb#W0sZmlsZQ%3D%3D?line=21'>22</a>\u001b[0m \u001b[39mprint\u001b[39;49m(Dna_seq)\n\u001b[1;32m     <a href='vscode-notebook-cell:/home/fabien/TPS/2A/Algorithmes%20du%20Texte/ProjetAlgorithmesDuTexte/development_tests/genbank_biopython/biopython_fetch.ipynb#W0sZmlsZQ%3D%3D?line=22'>23</a>\u001b[0m cible_positions \u001b[39m=\u001b[39m []\n\u001b[1;32m     <a href='vscode-notebook-cell:/home/fabien/TPS/2A/Algorithmes%20du%20Texte/ProjetAlgorithmesDuTexte/development_tests/genbank_biopython/biopython_fetch.ipynb#W0sZmlsZQ%3D%3D?line=23'>24</a>\u001b[0m \u001b[39mfor\u001b[39;00m feature \u001b[39min\u001b[39;00m record\u001b[39m.\u001b[39mfeatures:\n",
      "File \u001b[0;32m~/anaconda3/lib/python3.9/site-packages/Bio/Seq.py:382\u001b[0m, in \u001b[0;36m_SeqAbstractBaseClass.__str__\u001b[0;34m(self)\u001b[0m\n\u001b[1;32m    380\u001b[0m \u001b[39mdef\u001b[39;00m \u001b[39m__str__\u001b[39m(\u001b[39mself\u001b[39m):\n\u001b[1;32m    381\u001b[0m     \u001b[39m\"\"\"Return the full sequence as a python string.\"\"\"\u001b[39;00m\n\u001b[0;32m--> 382\u001b[0m     \u001b[39mreturn\u001b[39;00m \u001b[39mself\u001b[39;49m\u001b[39m.\u001b[39;49m_data\u001b[39m.\u001b[39;49mdecode(\u001b[39m\"\u001b[39;49m\u001b[39mASCII\u001b[39;49m\u001b[39m\"\u001b[39;49m)\n",
      "File \u001b[0;32m~/anaconda3/lib/python3.9/site-packages/Bio/Seq.py:156\u001b[0m, in \u001b[0;36mSequenceDataAbstractBaseClass.decode\u001b[0;34m(self, encoding)\u001b[0m\n\u001b[1;32m    150\u001b[0m \u001b[39mdef\u001b[39;00m \u001b[39mdecode\u001b[39m(\u001b[39mself\u001b[39m, encoding\u001b[39m=\u001b[39m\u001b[39m\"\u001b[39m\u001b[39mutf-8\u001b[39m\u001b[39m\"\u001b[39m):\n\u001b[1;32m    151\u001b[0m     \u001b[39m\"\"\"Decode the data as bytes using the codec registered for encoding.\u001b[39;00m\n\u001b[1;32m    152\u001b[0m \n\u001b[1;32m    153\u001b[0m \u001b[39m    encoding\u001b[39;00m\n\u001b[1;32m    154\u001b[0m \u001b[39m      The encoding with which to decode the bytes.\u001b[39;00m\n\u001b[1;32m    155\u001b[0m \u001b[39m    \"\"\"\u001b[39;00m\n\u001b[0;32m--> 156\u001b[0m     \u001b[39mreturn\u001b[39;00m \u001b[39mbytes\u001b[39;49m(\u001b[39mself\u001b[39;49m)\u001b[39m.\u001b[39mdecode(encoding)\n",
      "File \u001b[0;32m~/anaconda3/lib/python3.9/site-packages/Bio/Seq.py:2322\u001b[0m, in \u001b[0;36m_UndefinedSequenceData.__bytes__\u001b[0;34m(self)\u001b[0m\n\u001b[1;32m   2321\u001b[0m \u001b[39mdef\u001b[39;00m \u001b[39m__bytes__\u001b[39m(\u001b[39mself\u001b[39m):\n\u001b[0;32m-> 2322\u001b[0m     \u001b[39mraise\u001b[39;00m UndefinedSequenceError(\u001b[39m\"\u001b[39m\u001b[39mSequence content is undefined\u001b[39m\u001b[39m\"\u001b[39m)\n",
      "\u001b[0;31mUndefinedSequenceError\u001b[0m: Sequence content is undefined"
     ]
    }
   ],
   "source": [
    "from Bio import Entrez\n",
    "from Bio import SeqIO\n",
    "\n",
    "Entrez.email = \"fabien.allemand@etu.unistra.fr\"\n",
    "\n",
    "orga = \"Homo sapiens\"\n",
    "cible = \"gene\"\n",
    "db = \"nuccore\"\n",
    "db = \"nucleotide\"\n",
    "handle = Entrez.esearch(db=db, term=\"(\" + orga + \"[Organism] AND NC_*[Accession])\", retmax =\"99999999\", usehistory='y')\n",
    "record = Entrez.read(handle)\n",
    "handle.close()\n",
    "ids = record[\"IdList\"]\n",
    "print(len(ids))\n",
    "print(ids)\n",
    "for id in ids:\n",
    "    handle = Entrez.efetch(db=db, id=id, rettype=\"gb\", retmode=\"text\")\n",
    "    record = SeqIO.read(handle, \"genbank\")\n",
    "    handle.close()\n",
    "    print(record)\n",
    "    Dna_seq = record.seq\n",
    "    print(Dna_seq)\n",
    "    cible_positions = []\n",
    "    for feature in record.features:\n",
    "        print(feature.type)\n",
    "        if feature.type == cible:\n",
    "            cible_positions.append((feature.location.start, feature.location.end))\n",
    "            print(feature.location.start, feature.location.end)\n",
    "\n"
   ]
  }
 ],
 "metadata": {
  "kernelspec": {
   "display_name": "Python 3",
   "language": "python",
   "name": "python3"
  },
  "language_info": {
   "codemirror_mode": {
    "name": "ipython",
    "version": 3
   },
   "file_extension": ".py",
   "mimetype": "text/x-python",
   "name": "python",
   "nbconvert_exporter": "python",
   "pygments_lexer": "ipython3",
   "version": "3.9.12"
  },
  "orig_nbformat": 4
 },
 "nbformat": 4,
 "nbformat_minor": 2
}
