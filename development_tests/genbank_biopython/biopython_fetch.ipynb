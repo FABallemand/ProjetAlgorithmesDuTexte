{
 "cells": [
  {
   "attachments": {},
   "cell_type": "markdown",
   "metadata": {},
   "source": [
    "# Downloading Files from GenBank"
   ]
  },
  {
   "cell_type": "code",
   "execution_count": 1,
   "metadata": {},
   "outputs": [],
   "source": [
    "from Bio import Entrez\n",
    "from Bio import SeqIO\n",
    "\n",
    "Entrez.email = \"fabien.allemand@etu.unistra.fr\""
   ]
  },
  {
   "cell_type": "code",
   "execution_count": 2,
   "metadata": {},
   "outputs": [],
   "source": [
    "# db = \"nuccore\"\n",
    "db = \"nucleotide\"\n",
    "# db = \"gene\""
   ]
  },
  {
   "cell_type": "code",
   "execution_count": 6,
   "metadata": {},
   "outputs": [],
   "source": [
    "orga = \"Homo sapiens\"\n",
    "cible = \"gene\""
   ]
  },
  {
   "cell_type": "code",
   "execution_count": 7,
   "metadata": {},
   "outputs": [
    {
     "name": "stdout",
     "output_type": "stream",
     "text": [
      "24\n",
      "['568815597', '568815596', '568815595', '568815594', '568815593', '568815592', '568815591', '568815590', '568815589', '568815588', '568815587', '568815586', '568815585', '568815584', '568815583', '568815582', '568815581', '568815580', '568815579', '568815578', '568815577', '568815576', '568815575', '568815574']\n"
     ]
    }
   ],
   "source": [
    "\n",
    "handle = Entrez.esearch(db=db, term=\"(\" + orga + \"[Organism] AND NC_*[Accession])\", retmax =\"99999999\", usehistory='y')\n",
    "record = Entrez.read(handle)\n",
    "ids = record[\"IdList\"]\n",
    "handle.close()\n",
    "\n",
    "print(len(ids))\n",
    "print(ids)"
   ]
  },
  {
   "cell_type": "code",
   "execution_count": 8,
   "metadata": {},
   "outputs": [
    {
     "name": "stdout",
     "output_type": "stream",
     "text": [
      "#### id = NC_018416 ####\n",
      "WARNING: Unable to read from id = NC_018416\n",
      "WARNING: Unable to read sequence(s) from id = NC_018416\n",
      "WARNING: Unable to read feature(s) from id = NC_018416\n"
     ]
    }
   ],
   "source": [
    "for id in ids[:3]:\n",
    "    print(\"#### id =\", id, \"####\")\n",
    "    handle = Entrez.efetch(db=\"nuccore\", id=id, rettype=\"gbwithparts\", retmode=\"text\")\n",
    "    try:\n",
    "        record = SeqIO.read(handle, \"genbank\")\n",
    "        # record = SeqIO.read(handle, \"gbwithparts\") # speed up reading process\n",
    "        # print(\"# reading complete\")\n",
    "        # print(record)\n",
    "        # print(\"# record complete\")\n",
    "    except:\n",
    "        print(\"WARNING: Unable to read from id =\", id)\n",
    "    handle.close()\n",
    "    \n",
    "    DNA_seq = None\n",
    "    try:\n",
    "        DNA_seq = record.seq\n",
    "        print(DNA_seq)\n",
    "    except:\n",
    "        print(\"WARNING: Unable to read sequence(s) from id =\", id)\n",
    "    \n",
    "    try:\n",
    "        cible_positions = []\n",
    "        for feature in record.features:\n",
    "            print(feature.type)\n",
    "            if feature.type == cible:\n",
    "                cible_positions.append((feature.location.start, feature.location.end))\n",
    "                print(feature.location.start, feature.location.end)\n",
    "    except:\n",
    "        print(\"WARNING: Unable to read feature(s) from id =\", id)\n"
   ]
  }
 ],
 "metadata": {
  "kernelspec": {
   "display_name": "Python 3",
   "language": "python",
   "name": "python3"
  },
  "language_info": {
   "codemirror_mode": {
    "name": "ipython",
    "version": 3
   },
   "file_extension": ".py",
   "mimetype": "text/x-python",
   "name": "python",
   "nbconvert_exporter": "python",
   "pygments_lexer": "ipython3",
   "version": "3.10.6"
  },
  "orig_nbformat": 4
 },
 "nbformat": 4,
 "nbformat_minor": 2
}
