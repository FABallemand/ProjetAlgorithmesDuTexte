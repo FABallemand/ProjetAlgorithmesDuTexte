{
 "cells": [
  {
   "attachments": {},
   "cell_type": "markdown",
   "metadata": {},
   "source": [
    "# Downloading Files from GenBank"
   ]
  },
  {
   "attachments": {},
   "cell_type": "markdown",
   "metadata": {},
   "source": [
    "## Multiple files"
   ]
  },
  {
   "cell_type": "code",
   "execution_count": 2,
   "metadata": {},
   "outputs": [],
   "source": [
    "from Bio import Entrez\n",
    "from Bio import SeqIO\n",
    "\n",
    "Entrez.email = \"fabien.allemand@etu.unistra.fr\""
   ]
  },
  {
   "cell_type": "code",
   "execution_count": 3,
   "metadata": {},
   "outputs": [],
   "source": [
    "search_db = \"nucleotide\"\n",
    "fetch_db = \"nuccore\"\n",
    "\n",
    "region = [\"CDS\", \"centrometre\", \"intron\", \"mobile_element\", \"telomere\", \"3'UTR\", \"5'UTR\"] # tRNA, rRNA, ncRNA ???\n",
    "valid_codon_start = [\"ATG\", \"CTG\", \"TTG\", \"GTG\", \"ATA\", \"ATC\", \"ATT\", \"TTA\"]\n",
    "valid_codon_stop = [\"TAA\", \"TAG\", \"TGA\"]"
   ]
  },
  {
   "cell_type": "code",
   "execution_count": 7,
   "metadata": {},
   "outputs": [
    {
     "name": "stdout",
     "output_type": "stream",
     "text": [
      "7\n",
      "['NC_018418.1', 'NC_018417.1', 'NC_008512.1', 'NC_021894.1', 'NC_018416.1', 'NC_018415.1', 'NC_018414.1']\n"
     ]
    }
   ],
   "source": [
    "# orga = \"Homo sapiens\"\n",
    "orga = \"Candidatus Carsonella ruddii\"\n",
    "\n",
    "handle = Entrez.esearch(db=search_db, term=\"(\" + orga + \"[Organism] AND NC_000001:NC_999999[ACCN])\", retmax =\"999999999\", usehistory='y', idtype=\"acc\")\n",
    "record = Entrez.read(handle)\n",
    "ids = record[\"IdList\"]\n",
    "handle.close()\n",
    "\n",
    "print(len(ids))\n",
    "print(ids)"
   ]
  },
  {
   "cell_type": "code",
   "execution_count": null,
   "metadata": {},
   "outputs": [],
   "source": [
    "orga = \"Homo sapiens\"\n",
    "\n",
    "handle = Entrez.esearch(db=search_db, term=\"(\" + orga + \"[Organism] AND NC_*[Accession])\", retmax =\"99999999\", usehistory='y')\n",
    "record = Entrez.read(handle)\n",
    "ids = record[\"IdList\"]\n",
    "handle.close()\n",
    "\n",
    "print(len(ids))\n",
    "print(ids)"
   ]
  },
  {
   "cell_type": "code",
   "execution_count": null,
   "metadata": {},
   "outputs": [],
   "source": [
    "ids = [\"NC_018416\"] # For testing purpose, very small organism\n",
    "for id in ids[:3]:\n",
    "    print(\"#### id =\", id, \"####\")\n",
    "    handle = Entrez.efetch(db=fetch_db, id=id, rettype=\"gbwithparts\", retmode=\"text\")\n",
    "    try:\n",
    "        record = SeqIO.read(handle, \"genbank\")\n",
    "    except:\n",
    "        print(\"ERROR: Unable to read from id =\", id)\n",
    "    handle.close()\n",
    "    \n",
    "    DNA_seq = None\n",
    "    DNA_seq_len = -1\n",
    "    try:\n",
    "        DNA_seq = record.seq\n",
    "        DNA_seq_len = len(DNA_seq)\n",
    "        print(DNA_seq)\n",
    "    except:\n",
    "        print(\"ERROR: Unable to read sequence(s) from id =\", id)\n",
    "    \n",
    "    try:\n",
    "        for feature in record.features:\n",
    "            if feature.type in region:\n",
    "                print(\"############\")\n",
    "                print(\"TYPE =\", feature.type)\n",
    "                print(\"DEBUG =\", feature.location.start, feature.location.end)\n",
    "                print(\"STRAND =\", feature.location.strand)\n",
    "                if (\"<\" in str(feature.location.start)) or (\">\" in str(feature.location.start)) or (\"<\" in str(feature.location.end)) or (\">\" in str(feature.location.end)):\n",
    "                    print(\"ERROR: Invalid sequence start/stop (%s,%s)\" % (feature.location.start, feature.location.end))\n",
    "                    continue\n",
    "                sequence_start = int(feature.location.start)\n",
    "                sequence_end = int(feature.location.end)\n",
    "                print(\"DEBUG =\", sequence_start, sequence_end)\n",
    "                if sequence_start < 0:\n",
    "                    print(\"ERROR: Invalid sequence start/stop (%d,%d)(sequence_start < 0)\" % (sequence_start, sequence_end))\n",
    "                    continue\n",
    "                if sequence_end > DNA_seq_len:\n",
    "                    print(\"ERROR: Invalid sequence start/stop (%d,%d)(sequence_end > DNA_seq_len)\" % (sequence_start, sequence_end))\n",
    "                    continue\n",
    "                if sequence_end <= sequence_start:\n",
    "                    print(\"ERROR: Invalid sequence start/stop (%d,%d)(sequence_end <= sequence_start)\" % (sequence_start, sequence_end))\n",
    "                    continue\n",
    "                feature_DNA_seq = DNA_seq[sequence_start : sequence_end] \n",
    "                if len(feature_DNA_seq) % 3 != 0:\n",
    "                    print(\"ERROR: Invalid sequence length (%d)\" % len(feature_DNA_seq))\n",
    "                    continue\n",
    "                # print(type(feature_DNA_seq))\n",
    "                if feature.strand == -1:\n",
    "                    feature_DNA_seq = feature_DNA_seq.reverse_complement()\n",
    "                print(\"SEQUENCE =\", str(feature_DNA_seq))\n",
    "                codon_start = feature_DNA_seq[0:3]\n",
    "                codon_stop = feature_DNA_seq[len(feature_DNA_seq)-3:]\n",
    "                if codon_start not in valid_codon_start:\n",
    "                    print(\"ERROR: Invalid codon start (%s)\" % codon_start)\n",
    "                    continue\n",
    "                if codon_stop not in valid_codon_stop:\n",
    "                    print(\"ERROR: Invalid codon stop (%s)\" % codon_stop)\n",
    "                    continue\n",
    "                if not all(base in \"ATGC\" for base in feature_DNA_seq):\n",
    "                    print(\"ERROR: Invalid base found in sequence\")\n",
    "                    continue\n",
    "                \n",
    "                # print(\"STRAND =\", feature.location.strand)\n",
    "                print(\"QUALIFIER =\", feature.qualifiers)\n",
    "                print(\"LOCATION_OPERATOR =\", feature.location_operator)\n",
    "    except:\n",
    "        print(\"ERROR: Unable to read feature(s) from id =\", id)\n"
   ]
  },
  {
   "attachments": {},
   "cell_type": "markdown",
   "metadata": {},
   "source": [
    "## Single File"
   ]
  },
  {
   "cell_type": "code",
   "execution_count": 1,
   "metadata": {},
   "outputs": [],
   "source": [
    "from Bio import Entrez\n",
    "from Bio import SeqIO\n",
    "\n",
    "Entrez.email = \"fabien.allemand@etu.unistra.fr\""
   ]
  },
  {
   "cell_type": "code",
   "execution_count": 2,
   "metadata": {},
   "outputs": [],
   "source": [
    "search_db = \"nucleotide\"\n",
    "fetch_db = \"nuccore\"\n",
    "\n",
    "region = [\"CDS\", \"centrometre\", \"intron\", \"mobile_element\", \"telomere\", \"3'UTR\", \"5'UTR\"] # tRNA, rRNA, ncRNA ???\n",
    "valid_codon_start = [\"ATG\", \"CTG\", \"TTG\", \"GTG\", \"ATA\", \"ATC\", \"ATT\", \"TTA\"]\n",
    "valid_codon_stop = [\"TAA\", \"TAG\", \"TGA\"]"
   ]
  },
  {
   "cell_type": "code",
   "execution_count": 3,
   "metadata": {},
   "outputs": [
    {
     "name": "stdout",
     "output_type": "stream",
     "text": [
      "#### id = NC_000021 ####\n"
     ]
    }
   ],
   "source": [
    "id = \"NC_000021\" # For testing purpose, very small organism\n",
    "\n",
    "print(\"#### id =\", id, \"####\")\n",
    "handle = Entrez.efetch(db=fetch_db, id=id, rettype=\"gbwithparts\", retmode=\"text\")\n",
    "try:\n",
    "    record = SeqIO.read(handle, \"genbank\")\n",
    "except:\n",
    "    print(\"ERROR: Unable to read from id =\", id)\n",
    "handle.close()"
   ]
  },
  {
   "cell_type": "code",
   "execution_count": null,
   "metadata": {},
   "outputs": [],
   "source": [
    "DNA_seq = None\n",
    "DNA_seq_len = -1\n",
    "try:\n",
    "    DNA_seq = record.seq\n",
    "    DNA_seq_len = len(DNA_seq)\n",
    "    print(DNA_seq)\n",
    "except:\n",
    "    print(\"ERROR: Unable to read sequence(s) from id =\", id)\n",
    "\n",
    "try:\n",
    "    for feature in record.features:\n",
    "        if feature.type in region:\n",
    "            print(\"############\")\n",
    "            print(\"TYPE =\", feature.type)\n",
    "            print(\"START =\", feature.location.start)\n",
    "            print(\"STOP =\", feature.location.end)\n",
    "            print(\"STRAND =\", feature.location.strand)\n",
    "            print(\"QUALIFIER =\", feature.qualifiers)\n",
    "            print(\"LOCATION_OPERATOR =\", feature.location_operator)\n",
    "            if (\"<\" in str(feature.location.start)) or (\">\" in str(feature.location.start)) or (\"<\" in str(feature.location.end)) or (\">\" in str(feature.location.end)):\n",
    "                print(\"ERROR: Invalid sequence start/stop (%s,%s)\" % (feature.location.start, feature.location.end))\n",
    "                continue\n",
    "            sequence_start = int(feature.location.start)\n",
    "            sequence_end = int(feature.location.end)\n",
    "            print(\"DEBUG =\", sequence_start, sequence_end)\n",
    "            if sequence_start < 0:\n",
    "                print(\"ERROR: Invalid sequence start/stop (%d,%d)(sequence_start < 0)\" % (sequence_start, sequence_end))\n",
    "                continue\n",
    "            if sequence_end > DNA_seq_len:\n",
    "                print(\"ERROR: Invalid sequence start/stop (%d,%d)(sequence_end > DNA_seq_len)\" % (sequence_start, sequence_end))\n",
    "                continue\n",
    "            if sequence_end <= sequence_start:\n",
    "                print(\"ERROR: Invalid sequence start/stop (%d,%d)(sequence_end <= sequence_start)\" % (sequence_start, sequence_end))\n",
    "                continue\n",
    "            feature_DNA_seq = DNA_seq[sequence_start : sequence_end] \n",
    "            if len(feature_DNA_seq) % 3 != 0:\n",
    "                print(\"ERROR: Invalid sequence length (%d)\" % len(feature_DNA_seq))\n",
    "                continue\n",
    "            # print(type(feature_DNA_seq))\n",
    "            if feature.strand == -1:\n",
    "                feature_DNA_seq = feature_DNA_seq.reverse_complement()\n",
    "            print(\"SEQUENCE =\", str(feature_DNA_seq))\n",
    "            codon_start = feature_DNA_seq[0:3]\n",
    "            codon_stop = feature_DNA_seq[len(feature_DNA_seq)-3:]\n",
    "            if codon_start not in valid_codon_start:\n",
    "                print(\"ERROR: Invalid codon start (%s)\" % codon_start)\n",
    "                continue\n",
    "            if codon_stop not in valid_codon_stop:\n",
    "                print(\"ERROR: Invalid codon stop (%s)\" % codon_stop)\n",
    "                continue\n",
    "            if not all(base in \"ATGC\" for base in feature_DNA_seq):\n",
    "                print(\"ERROR: Invalid base found in sequence\")\n",
    "                continue\n",
    "except:\n",
    "    print(\"ERROR: Unable to read feature(s) from id =\", id)"
   ]
  },
  {
   "attachments": {},
   "cell_type": "markdown",
   "metadata": {},
   "source": [
    "## Notes:\n",
    "\n",
    "- .strand\n",
    "    – shorthand for .location.strand – the strand on the sequence that the feature is located on. For double stranded nucleotide sequence this may either be 1 for the top strand, −1 for the bottom strand, 0 if the strand is important but is unknown, or None if it doesn’t matter. This is None for proteins, or single stranded sequences."
   ]
  }
 ],
 "metadata": {
  "kernelspec": {
   "display_name": "Python 3",
   "language": "python",
   "name": "python3"
  },
  "language_info": {
   "codemirror_mode": {
    "name": "ipython",
    "version": 3
   },
   "file_extension": ".py",
   "mimetype": "text/x-python",
   "name": "python",
   "nbconvert_exporter": "python",
   "pygments_lexer": "ipython3",
   "version": "3.9.12"
  },
  "orig_nbformat": 4
 },
 "nbformat": 4,
 "nbformat_minor": 2
}
