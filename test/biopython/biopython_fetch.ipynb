{
 "cells": [
  {
   "cell_type": "code",
   "execution_count": null,
   "metadata": {},
   "outputs": [],
   "source": [
    "from Bio import Entrez\n",
    "from Bio import SeqIO\n",
    "\n",
    "Entrez.email = \"fabien.allemand@etu.unistra.fr\"\n",
    "\n",
    "orga = \"Fungi\"\n",
    "cible = \"gene\"\n",
    "handle = Entrez.esearch(db=\"nucleotide\", term=\"(\" + orga + \"[Organism] AND NC_*[Accession])\", retmax =\"9999\", usehistory='y')\n",
    "record = Entrez.read(handle)\n",
    "handle.close()\n",
    "\n",
    "ids = record[\"IdList\"]\n",
    "print(len(ids))\n",
    "print(ids)\n",
    "for id in ids:\n",
    "    handle = Entrez.efetch(db=\"nucleotide\", id=id, rettype=\"gb\", retmode=\"text\")\n",
    "    record = SeqIO.read(handle, \"genbank\")\n",
    "    handle.close()\n",
    "    Dna_seq = record.seq\n",
    "    #print(Dna_seq) ///////////////////////introduit un bug louchee /////////////////\n",
    "    cible_positions = []\n",
    "    for feature in record.features:\n",
    "        # print(feature.type)\n",
    "        if feature.type == cible:\n",
    "            cible_positions.append((feature.location.start, feature.location.end))\n",
    "            #print(feature.location.start, feature.location.end)\n",
    "\n"
   ]
  }
 ],
 "metadata": {
  "kernelspec": {
   "display_name": "Python 3",
   "language": "python",
   "name": "python3"
  },
  "language_info": {
   "codemirror_mode": {
    "name": "ipython",
    "version": 3
   },
   "file_extension": ".py",
   "mimetype": "text/x-python",
   "name": "python",
   "nbconvert_exporter": "python",
   "pygments_lexer": "ipython3",
   "version": "3.10.6"
  },
  "orig_nbformat": 4
 },
 "nbformat": 4,
 "nbformat_minor": 2
}
