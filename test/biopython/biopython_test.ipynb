{
 "cells": [
  {
   "attachments": {},
   "cell_type": "markdown",
   "metadata": {},
   "source": [
    "# Biopyhton Tests"
   ]
  },
  {
   "attachments": {},
   "cell_type": "markdown",
   "metadata": {},
   "source": [
    "## Test on genome Database"
   ]
  },
  {
   "cell_type": "code",
   "execution_count": null,
   "metadata": {},
   "outputs": [],
   "source": [
    "from Bio import Entrez\n",
    "\n",
    "handle = Entrez.einfo()\n",
    "record = Entrez.read(handle)\n",
    "print(record[\"DbList\"])"
   ]
  },
  {
   "cell_type": "code",
   "execution_count": null,
   "metadata": {},
   "outputs": [],
   "source": [
    "from Bio import Entrez\n",
    "from Bio import SeqIO\n",
    "\n",
    "Entrez.email=\"fabien.allemand@etu.unistra.fr\"\n",
    "\n",
    "handle = Entrez.esearch(db=\"genome\", term=\"(Chloracidobacterium[Organism]) AND (NC_*[Accession])\", sort=\"relevance\")\n",
    "# handle = Entrez.esearch(db=\"genome\", term=\"(Chloracidobacterium[Organism])\", sort=\"relevance\")\n",
    "\n",
    "record = Entrez.read(handle)\n",
    "print(record)\n",
    "ids = record[\"IdList\"]\n",
    "print(ids)\n",
    "\n",
    "handle_1 = Entrez.efetch(db=\"genome\", id=ids[0], rettype=\"gb\", retmode=\"text\")\n",
    "print(SeqIO.read(handle_1, \"gb\"))"
   ]
  },
  {
   "cell_type": "code",
   "execution_count": null,
   "metadata": {},
   "outputs": [],
   "source": [
    "from Bio import Entrez\n",
    "from Bio import SeqIO\n",
    "\n",
    "Entrez.email=\"fabien.allemand@etu.unistra.fr\"\n",
    "\n",
    "handle = Entrez.esearch(db=\"genome\", term=\"Blastocatellia\", sort=\"relevance\")\n",
    "record = Entrez.read(handle)\n",
    "print(record)\n",
    "ids = record[\"IdList\"]\n",
    "print(ids)\n",
    "print(type(ids[0]))\n",
    "\n",
    "handle = Entrez.efetch(db=\"genome\", id=ids[4], rettype=\"gb\", retmode=\"text\")\n",
    "record = SeqIO.read(handle, \"gb\")\n",
    "\n",
    "print(\"record id:\", record.id)\n",
    "print(\"record name:\", record.name)\n",
    "print(\"record description:\", record.description)\n",
    "\n",
    "features = record.features\n",
    "print(\"length sequence features:\", len(features))\n",
    "print(\"sequence features:\", features)\n",
    "\n",
    "seq = record.seq\n",
    "print(\"sequence length:\", len(seq))\n",
    "print(\"sequence head:\", seq[1:20])\n",
    "\n",
    "# print(seq.startswith(\"GAA\")) # To explore"
   ]
  },
  {
   "attachments": {},
   "cell_type": "markdown",
   "metadata": {},
   "source": [
    "## Example from Biopython documentation"
   ]
  },
  {
   "cell_type": "code",
   "execution_count": null,
   "metadata": {},
   "outputs": [],
   "source": [
    "from Bio import Entrez\n",
    "\n",
    "Entrez.email = \"fabien.allemand@etu.unistra.fr\"\n",
    "handle = Entrez.egquery(term=\"Opuntia AND rpl16\")\n",
    "record = Entrez.read(handle)\n",
    "for row in record[\"eGQueryResult\"]:\n",
    "    if row[\"DbName\"] == \"nuccore\":\n",
    "        print(row[\"Count\"])\n",
    "\n",
    "handle = Entrez.esearch(db=\"nuccore\", term=\"Opuntia AND rpl16\")\n",
    "record = Entrez.read(handle)\n",
    "gi_list = record[\"IdList\"]\n",
    "print(gi_list)\n",
    "\n",
    "handle = Entrez.efetch(db=\"nuccore\", id=gi_list, rettype=\"gb\", retmode=\"text\")\n",
    "\n",
    "text = handle.read()\n",
    "print(text)\n",
    "\n",
    "print(\"END\")"
   ]
  },
  {
   "attachments": {},
   "cell_type": "markdown",
   "metadata": {},
   "source": [
    "## Example from: https://www.youtube.com/watch?v=XiWcXUS15fI&ab_channel=BioinformaticsCoach"
   ]
  },
  {
   "cell_type": "code",
   "execution_count": 1,
   "metadata": {},
   "outputs": [],
   "source": [
    "from Bio import Entrez\n",
    "from Bio import SeqIO\n",
    "\n",
    "Entrez.email=\"fabien.allemand@etu.unistra.fr\""
   ]
  },
  {
   "attachments": {},
   "cell_type": "markdown",
   "metadata": {},
   "source": [
    "### Download and explore files"
   ]
  },
  {
   "cell_type": "code",
   "execution_count": 4,
   "metadata": {},
   "outputs": [
    {
     "name": "stdout",
     "output_type": "stream",
     "text": [
      "b'<?xml version=\"1.0\" ?>\\n<!DOCTYPE eEfetchResult PUBLIC \"-//NLM//DTD efetch 20020605//EN\" \"https://eutils.ncbi.nlm.nih.gov/eutils/dtd/20020605/uilist.dtd\">\\n<IdList>\\n    <Id>34577062</Id>\\n</IdList>\\n'\n"
     ]
    }
   ],
   "source": [
    "# Identifier: GI number\n",
    "# Data base: nuccore\n",
    "handle = Entrez.efetch(db=\"nuccore\", id=\"34577062\")\n",
    "\n",
    "print(handle.read())"
   ]
  },
  {
   "cell_type": "code",
   "execution_count": 5,
   "metadata": {},
   "outputs": [
    {
     "name": "stdout",
     "output_type": "stream",
     "text": [
      ">NM_001126.2 Homo sapiens adenylosuccinate synthase (ADSS), mRNA\n",
      "GGAAGGGGCGTGGCCTCGGTCCGGGGTGGCGGCCGTTGCCGCCACCAGGGCCTCTTCCTGCGGGCGGTGC\n",
      "TGCCGAGGCCGGCCTGCGCGGGGCAGTCATGGTACCCCCTTGAGCGGGCTGTGGCGGAGAGCGGGGCGGG\n",
      "GACTGGCTGGAGGGTGGCGGCCCGGCGGGGCGGGGGCGGGGCCGGCCTCTGGCTCCTTCTTCCTCTGCAT\n",
      "GTGGCTGGCGGCCGCAGAGCAGTTCAGTTCGCTCACTCCTCGCCGGCCGCCTCTCCTTCGGGCTCTCCTC\n",
      "GCGTCACTGGAGCCATGGCGTTCGCCGAGACCTACCCGGCGGCATCCTCCCTGCCCAACGGCGATTGCGG\n",
      "CCGCCCCAGGGCGCGGCCCGGAGGAAACCGGGTGACGGTGGTGCTCGGTGCGCAGTGGGGCGACGAAGGC\n",
      "AAAGGGAAGGTGGTGGACCTGCTGGCGCAGGACGCCGACATCGTGTGCCGCTGCCAGGGAGGAAATAATG\n",
      "CTGGCCATACAGTTGTTGTGGATTCTGTGGAATATGATTTTCATCTCTTACCCAGTGGAATAATTAATCC\n",
      "AAATGTCACTGCATTCATTGGAAATGGTGTGGTAATTCATCTACCTGGATTGTTTGAAGAAGCAGAGAAA\n",
      "AATGTTCAAAAAGGAAAAGGACTAGAAGGCTGGGAAAAAAGGCTTATTATATCTGACAGAGCTCATATTG\n",
      "TATTTGATTTTCATCAAGCAGCTGATGGTATCCAGGAACAACAGAGACAAGAACAAGCAGGAAAAAATTT\n",
      "GGGTACAACAAAAAAGGGCATTGGCCCAGTTTATTCGTCCAAAGCTGCTCGGAGTGGACTCAGGATGTGC\n",
      "GACCTTGTTTCTGACTTTGATGGCTTCTCTGAGAGGTTTAAAGTTCTAGCTAACCAATACAAATCTATAT\n",
      "ACCCCACTTTGGAAATAGACATTGAAGGTGAATTACAAAAACTCAAGGGTTATATGGAAAAGATTAAACC\n",
      "AATGGTGAGAGATGGAGTTTATTTTCTATATGAGGCCCTACATGGACCACCAAAGAAAATCTTGGTAGAA\n",
      "GGTGCAAATGCAGCACTATTAGATATTGATTTTGGGACTTACCCTTTTGTAACCTCTTCAAATTGTACTG\n",
      "TTGGAGGTGTTTGTACTGGTTTGGGTATGCCACCTCAAAATGTTGGAGAAGTGTATGGAGTTGTGAAAGC\n",
      "TTATACAACTAGAGTTGGTATTGGTGCCTTTCCTACAGAGCAAGACAATGAAATTGGAGAATTATTACAA\n",
      "ACAAGGGGTAGAGAGTTTGGTGTAACTACTGGAAGGAAAAGAAGATGTGGCTGGTTGGACCTCGTTTTGC\n",
      "TCAAATATGCTCATATGATCAATGGATTTACTGCGTTGGCACTTACCAAGTTGGATATTTTGGACATGTT\n",
      "TACGGAAATCAAAGTTGGAGTTGCTTACAAGTTAGATGGTGAAATCATACCTCATATCCCAGCAAACCAA\n",
      "GAAGTCTTAAATAAAGTTGAAGTTCAATATAAGACTCTCCCAGGATGGAACACAGACATATCAAATGCAA\n",
      "GGGCGTTTAAAGAACTACCTGTTAATGCACAAAACTATGTTCGATTTATTGAAGATGAGCTTCAAATTCC\n",
      "AGTTAAGTGGATTGGTGTTGGTAAATCCAGAGAATCTATGATTCAACTCTTTTAATGATTGCCAGTAATG\n",
      "CAAGAAACACTCCTTGAGAGGGAGGGGAAAAGACTTTCTTAAATATTTCATTTATGACCTGCAAATTCAA\n",
      "GAATAAAGACACTGAAGTAAGTTTGAAGCCCTACAGTTGTTTCCAGTCTTTTCAGATGGATGCCTACTGT\n",
      "GGAGATTAACTTTGGCATATTCCAGTGTCAGCTTTCTTTAGCTGGAATTGCCAAATCATTTGTTGCTCCT\n",
      "GCTGCTCTCATGGTGCCACGTTTTTTTTTTCAATGTTTAGTAATAGTATAATCCATGTTGTTTGATATCA\n",
      "AAAGTAGAATTACTTTTAATGTAGTTTTTCTTCATTATTGTCATTGCGTGTTCTTAAGTTTTACCCCTAT\n",
      "TAGATGGTAAGAACAATTAATGCAGTTTTGCACAAATATTTTTACATTCTGATCATTCAGTTCTGTCATT\n",
      "GTAATCTTTGTTGTTAGAAACAAATGATGAAAACATAGGGGTTCTGTAAACTTTTGTAATGCTATGAATT\n",
      "CTGTTTAAATTTTGGGCTGTCTATTTTCTGCTGAAACCATGCAAAATTGAGCTTTGGTGGGGCTGGGAGG\n",
      "GGGTTATGTATTCATGGGACCTTTAATTTGTACAGAACACAGAACTTATTTCTGTCAGTTATTTAATACA\n",
      "TTGAAAATTTAGTGAAATGTTCAAAGAGAATAGATGTTTCCCAAAACAACAATCTTTATGTTAAAAATAG\n",
      "TCATTAAAAGATCTGTTGTAATATATGGTGGATATTTTTCTTTAATTTCAAACATTACCTCTGAAATGTG\n",
      "TATCTTTTCTTTTTTATCTTACCATTAATTTTAAATCTAGTGGATTGGTTTTCAACATCGTGCCTGCCGA\n",
      "TATGCCTACAGAATCATCTGTAAGTGTCAAAATGAACCCACGTTGTTAGCCATAATTTTGATTATGCCTT\n",
      "TATTTCTCCTTTCTTGAAAAAAAAAAGGTGTTATTTTGACAATTAGGCATAACATTGTTTTGTAGATTAT\n",
      "CTTTTAATGAACTATTTTAAATGTTAAATTAGGTGCCACTTAAATTTATTTTATTACACCATGAATAGCT\n",
      "GATTAAAAGAACCAAATATTTCTAGTAAAAAAAAAAAAAAAAAAA\n",
      "\n",
      "\n"
     ]
    }
   ],
   "source": [
    "# Identifier: GI number\n",
    "# Data base: nuccore\n",
    "handle = Entrez.efetch(db=\"nuccore\", id=\"34577062\", rettype=\"fasta\")\n",
    "print(handle.read())"
   ]
  },
  {
   "cell_type": "code",
   "execution_count": 6,
   "metadata": {},
   "outputs": [
    {
     "name": "stdout",
     "output_type": "stream",
     "text": [
      "LOCUS       NM_001126               2775 bp    mRNA    linear   PRI 10-OCT-2010\n",
      "DEFINITION  Homo sapiens adenylosuccinate synthase (ADSS), mRNA.\n",
      "ACCESSION   NM_001126\n",
      "VERSION     NM_001126.2\n",
      "KEYWORDS    RefSeq.\n",
      "SOURCE      Homo sapiens (human)\n",
      "  ORGANISM  Homo sapiens\n",
      "            Eukaryota; Metazoa; Chordata; Craniata; Vertebrata; Euteleostomi;\n",
      "            Mammalia; Eutheria; Euarchontoglires; Primates; Haplorrhini;\n",
      "            Catarrhini; Hominidae; Homo.\n",
      "REFERENCE   1  (bases 1 to 2775)\n",
      "  AUTHORS   Sivendran,S. and Colman,R.F.\n",
      "  TITLE     Effect of a new non-cleavable substrate analog on wild-type and\n",
      "            serine mutants in the signature sequence of adenylosuccinate lyase\n",
      "            of Bacillus subtilis and Homo sapiens\n",
      "  JOURNAL   Protein Sci. 17 (7), 1162-1174 (2008)\n",
      "   PUBMED   18469177\n",
      "  REMARK    GeneRIF: Kinetic data reveal that human Ser(289) and B. subtilis\n",
      "            Ser(262) and Ser(263) are essential for catalysis, while the\n",
      "            ability of these Ser mutants to bind APBADP suggests that they do\n",
      "            not contribute to substrate affinity\n",
      "REFERENCE   2  (bases 1 to 2775)\n",
      "  AUTHORS   Zhang,F., Xu,Y., Liu,P., Fan,H., Huang,X., Sun,G., Song,Y. and\n",
      "            Sham,P.C.\n",
      "  TITLE     Association analyses of the interaction between the ADSS and ATM\n",
      "            genes with schizophrenia in a Chinese population\n",
      "  JOURNAL   BMC Med. Genet. 9, 119 (2008)\n",
      "   PUBMED   19115993\n",
      "  REMARK    GeneRIF: These findings suggest that the combined effects of the\n",
      "            polymorphisms in the ADSS and ATM genes may confer susceptibility\n",
      "            to the development of schizophrenia in a Chinese population\n",
      "            GeneRIF: Observational study of gene-disease association and\n",
      "            gene-gene interaction. (HuGE Navigator)\n",
      "            Publication Status: Online-Only\n",
      "REFERENCE   3  (bases 1 to 2775)\n",
      "  AUTHORS   Zhang,F., Sham,P.C., Fan,H., Xu,Y., Huang,X., So,H., Song,Y. and\n",
      "            Liu,P.\n",
      "  TITLE     An association study of ADSS gene polymorphisms with schizophrenia\n",
      "  JOURNAL   Behav Brain Funct 4, 39 (2008)\n",
      "   PUBMED   18721483\n",
      "  REMARK    GeneRIF: Observational study of gene-disease association. (HuGE\n",
      "            Navigator)\n",
      "            Publication Status: Online-Only\n",
      "REFERENCE   4  (bases 1 to 2775)\n",
      "  AUTHORS   Sun,H., Li,N., Wang,X., Chen,T., Shi,L., Zhang,L., Wang,J., Wan,T.\n",
      "            and Cao,X.\n",
      "  TITLE     Molecular cloning and characterization of a novel muscle\n",
      "            adenylosuccinate synthetase, AdSSL1, from human bone marrow stromal\n",
      "            cells\n",
      "  JOURNAL   Mol. Cell. Biochem. 269 (1-2), 85-94 (2005)\n",
      "   PUBMED   15786719\n",
      "REFERENCE   5  (bases 1 to 2775)\n",
      "  AUTHORS   Stepinski,J., Pawelczyk,T., Bizon,D. and Angielski,S.\n",
      "  TITLE     Purine nucleotide cycle in rat renal cortex and medulla under\n",
      "            conditions that mimic normal and low oxygen supply\n",
      "  JOURNAL   Kidney Int. 50 (4), 1195-1201 (1996)\n",
      "   PUBMED   8887278\n",
      "REFERENCE   6  (bases 1 to 2775)\n",
      "  AUTHORS   Powell,S.M., Zalkin,H. and Dixon,J.E.\n",
      "  TITLE     Cloning and characterization of the cDNA encoding human\n",
      "            adenylosuccinate synthetase\n",
      "  JOURNAL   FEBS Lett. 303 (1), 4-10 (1992)\n",
      "   PUBMED   1592113\n",
      "REFERENCE   7  (bases 1 to 2775)\n",
      "  AUTHORS   Zalkin,H. and Dixon,J.E.\n",
      "  TITLE     De novo purine nucleotide biosynthesis\n",
      "  JOURNAL   Prog. Nucleic Acid Res. Mol. Biol. 42, 259-287 (1992)\n",
      "   PUBMED   1574589\n",
      "  REMARK    Review article\n",
      "REFERENCE   8  (bases 1 to 2775)\n",
      "  AUTHORS   Lai,L.W., Hart,I.M. and Patterson,D.\n",
      "  TITLE     A gene correcting the defect in the CHO mutant Ade -H, deficient in\n",
      "            a branch point enzyme (adenylosuccinate synthetase) of de novo\n",
      "            purine biosynthesis, is located on the long arm of chromosome 1\n",
      "  JOURNAL   Genomics 9 (2), 322-328 (1991)\n",
      "   PUBMED   2004783\n",
      "REFERENCE   9  (bases 1 to 2775)\n",
      "  AUTHORS   Ogawa,H., Shiraki,H., Matsuda,Y. and Nakagawa,H.\n",
      "  TITLE     Interaction of adenylosuccinate synthetase with F-actin\n",
      "  JOURNAL   Eur. J. Biochem. 85 (2), 331-337 (1978)\n",
      "   PUBMED   648524\n",
      "REFERENCE   10 (bases 1 to 2775)\n",
      "  AUTHORS   Van der Weyden,M.B. and Kelly,W.N.\n",
      "  TITLE     Human adenylosuccinate synthetase. Partial purification, kinetic\n",
      "            and regulatory properties of the enzyme from placenta\n",
      "  JOURNAL   J. Biol. Chem. 249 (22), 7282-7289 (1974)\n",
      "   PUBMED   4436310\n",
      "COMMENT     REVIEWED REFSEQ: This record has been curated by NCBI staff. The\n",
      "            reference sequence was derived from BC012356.1 and BG700800.1.\n",
      "            \n",
      "            [WARNING] On Nov 25, 2010 this sequence was replaced by\n",
      "            NM_001126.3.\n",
      "            \n",
      "            On Sep 11, 2003 this sequence version replaced NM_001126.1.\n",
      "            \n",
      "            Summary: Adenylosuccinate synthetase catalyzes the first committed\n",
      "            step in the conversion of IMP to AMP [provided by RefSeq].\n",
      "            COMPLETENESS: complete on the 3' end.\n",
      "FEATURES             Location/Qualifiers\n",
      "     source          1..2775\n",
      "                     /organism=\"Homo sapiens\"\n",
      "                     /mol_type=\"mRNA\"\n",
      "                     /db_xref=\"taxon:9606\"\n",
      "                     /chromosome=\"1\"\n",
      "                     /map=\"1cen-q12\"\n",
      "     gene            1..2775\n",
      "                     /gene=\"ADSS\"\n",
      "                     /gene_synonym=\"ADEH; MGC20404\"\n",
      "                     /note=\"adenylosuccinate synthase\"\n",
      "                     /db_xref=\"GeneID:159\"\n",
      "                     /db_xref=\"HGNC:HGNC:292\"\n",
      "                     /db_xref=\"HPRD:00050\"\n",
      "                     /db_xref=\"MIM:103060\"\n",
      "     CDS             295..1665\n",
      "                     /gene=\"ADSS\"\n",
      "                     /gene_synonym=\"ADEH; MGC20404\"\n",
      "                     /EC_number=\"6.3.4.4\"\n",
      "                     /note=\"adenylosuccinate synthetase\n",
      "                     (Ade(-)H-complementing); adenylosuccinate synthetase,\n",
      "                     acidic isozyme; IMP--aspartate ligase 2; adSS 2; AMPSase\n",
      "                     2; L-type adenylosuccinate synthetase; adenylosuccinate\n",
      "                     synthetase, liver isozyme\"\n",
      "                     /codon_start=1\n",
      "                     /product=\"adenylosuccinate synthetase isozyme 2\"\n",
      "                     /protein_id=\"NP_001117.2\"\n",
      "                     /db_xref=\"CCDS:CCDS1624.1\"\n",
      "                     /db_xref=\"GeneID:159\"\n",
      "                     /db_xref=\"HGNC:HGNC:292\"\n",
      "                     /db_xref=\"HPRD:00050\"\n",
      "                     /db_xref=\"MIM:103060\"\n",
      "                     /translation=\"MAFAETYPAASSLPNGDCGRPRARPGGNRVTVVLGAQWGDEGKG\n",
      "                     KVVDLLAQDADIVCRCQGGNNAGHTVVVDSVEYDFHLLPSGIINPNVTAFIGNGVVIH\n",
      "                     LPGLFEEAEKNVQKGKGLEGWEKRLIISDRAHIVFDFHQAADGIQEQQRQEQAGKNLG\n",
      "                     TTKKGIGPVYSSKAARSGLRMCDLVSDFDGFSERFKVLANQYKSIYPTLEIDIEGELQ\n",
      "                     KLKGYMEKIKPMVRDGVYFLYEALHGPPKKILVEGANAALLDIDFGTYPFVTSSNCTV\n",
      "                     GGVCTGLGMPPQNVGEVYGVVKAYTTRVGIGAFPTEQDNEIGELLQTRGREFGVTTGR\n",
      "                     KRRCGWLDLVLLKYAHMINGFTALALTKLDILDMFTEIKVGVAYKLDGEIIPHIPANQ\n",
      "                     EVLNKVEVQYKTLPGWNTDISNARAFKELPVNAQNYVRFIEDELQIPVKWIGVGKSRE\n",
      "                     SMIQLF\"\n",
      "     regulatory      2732..2737\n",
      "                     /regulatory_class=\"polyA_signal_sequence\"\n",
      "                     /gene=\"ADSS\"\n",
      "                     /gene_synonym=\"ADEH; MGC20404\"\n",
      "     polyA_site      2757\n",
      "                     /gene=\"ADSS\"\n",
      "                     /gene_synonym=\"ADEH; MGC20404\"\n",
      "ORIGIN      \n",
      "        1 ggaaggggcg tggcctcggt ccggggtggc ggccgttgcc gccaccaggg cctcttcctg\n",
      "       61 cgggcggtgc tgccgaggcc ggcctgcgcg gggcagtcat ggtaccccct tgagcgggct\n",
      "      121 gtggcggaga gcggggcggg gactggctgg agggtggcgg cccggcgggg cgggggcggg\n",
      "      181 gccggcctct ggctccttct tcctctgcat gtggctggcg gccgcagagc agttcagttc\n",
      "      241 gctcactcct cgccggccgc ctctccttcg ggctctcctc gcgtcactgg agccatggcg\n",
      "      301 ttcgccgaga cctacccggc ggcatcctcc ctgcccaacg gcgattgcgg ccgccccagg\n",
      "      361 gcgcggcccg gaggaaaccg ggtgacggtg gtgctcggtg cgcagtgggg cgacgaaggc\n",
      "      421 aaagggaagg tggtggacct gctggcgcag gacgccgaca tcgtgtgccg ctgccaggga\n",
      "      481 ggaaataatg ctggccatac agttgttgtg gattctgtgg aatatgattt tcatctctta\n",
      "      541 cccagtggaa taattaatcc aaatgtcact gcattcattg gaaatggtgt ggtaattcat\n",
      "      601 ctacctggat tgtttgaaga agcagagaaa aatgttcaaa aaggaaaagg actagaaggc\n",
      "      661 tgggaaaaaa ggcttattat atctgacaga gctcatattg tatttgattt tcatcaagca\n",
      "      721 gctgatggta tccaggaaca acagagacaa gaacaagcag gaaaaaattt gggtacaaca\n",
      "      781 aaaaagggca ttggcccagt ttattcgtcc aaagctgctc ggagtggact caggatgtgc\n",
      "      841 gaccttgttt ctgactttga tggcttctct gagaggttta aagttctagc taaccaatac\n",
      "      901 aaatctatat accccacttt ggaaatagac attgaaggtg aattacaaaa actcaagggt\n",
      "      961 tatatggaaa agattaaacc aatggtgaga gatggagttt attttctata tgaggcccta\n",
      "     1021 catggaccac caaagaaaat cttggtagaa ggtgcaaatg cagcactatt agatattgat\n",
      "     1081 tttgggactt acccttttgt aacctcttca aattgtactg ttggaggtgt ttgtactggt\n",
      "     1141 ttgggtatgc cacctcaaaa tgttggagaa gtgtatggag ttgtgaaagc ttatacaact\n",
      "     1201 agagttggta ttggtgcctt tcctacagag caagacaatg aaattggaga attattacaa\n",
      "     1261 acaaggggta gagagtttgg tgtaactact ggaaggaaaa gaagatgtgg ctggttggac\n",
      "     1321 ctcgttttgc tcaaatatgc tcatatgatc aatggattta ctgcgttggc acttaccaag\n",
      "     1381 ttggatattt tggacatgtt tacggaaatc aaagttggag ttgcttacaa gttagatggt\n",
      "     1441 gaaatcatac ctcatatccc agcaaaccaa gaagtcttaa ataaagttga agttcaatat\n",
      "     1501 aagactctcc caggatggaa cacagacata tcaaatgcaa gggcgtttaa agaactacct\n",
      "     1561 gttaatgcac aaaactatgt tcgatttatt gaagatgagc ttcaaattcc agttaagtgg\n",
      "     1621 attggtgttg gtaaatccag agaatctatg attcaactct tttaatgatt gccagtaatg\n",
      "     1681 caagaaacac tccttgagag ggaggggaaa agactttctt aaatatttca tttatgacct\n",
      "     1741 gcaaattcaa gaataaagac actgaagtaa gtttgaagcc ctacagttgt ttccagtctt\n",
      "     1801 ttcagatgga tgcctactgt ggagattaac tttggcatat tccagtgtca gctttcttta\n",
      "     1861 gctggaattg ccaaatcatt tgttgctcct gctgctctca tggtgccacg tttttttttt\n",
      "     1921 caatgtttag taatagtata atccatgttg tttgatatca aaagtagaat tacttttaat\n",
      "     1981 gtagtttttc ttcattattg tcattgcgtg ttcttaagtt ttacccctat tagatggtaa\n",
      "     2041 gaacaattaa tgcagttttg cacaaatatt tttacattct gatcattcag ttctgtcatt\n",
      "     2101 gtaatctttg ttgttagaaa caaatgatga aaacataggg gttctgtaaa cttttgtaat\n",
      "     2161 gctatgaatt ctgtttaaat tttgggctgt ctattttctg ctgaaaccat gcaaaattga\n",
      "     2221 gctttggtgg ggctgggagg gggttatgta ttcatgggac ctttaatttg tacagaacac\n",
      "     2281 agaacttatt tctgtcagtt atttaataca ttgaaaattt agtgaaatgt tcaaagagaa\n",
      "     2341 tagatgtttc ccaaaacaac aatctttatg ttaaaaatag tcattaaaag atctgttgta\n",
      "     2401 atatatggtg gatatttttc tttaatttca aacattacct ctgaaatgtg tatcttttct\n",
      "     2461 tttttatctt accattaatt ttaaatctag tggattggtt ttcaacatcg tgcctgccga\n",
      "     2521 tatgcctaca gaatcatctg taagtgtcaa aatgaaccca cgttgttagc cataattttg\n",
      "     2581 attatgcctt tatttctcct ttcttgaaaa aaaaaaggtg ttattttgac aattaggcat\n",
      "     2641 aacattgttt tgtagattat cttttaatga actattttaa atgttaaatt aggtgccact\n",
      "     2701 taaatttatt ttattacacc atgaatagct gattaaaaga accaaatatt tctagtaaaa\n",
      "     2761 aaaaaaaaaa aaaaa\n",
      "//\n",
      "\n",
      "\n"
     ]
    }
   ],
   "source": [
    "# Data base: nucleotide\n",
    "# Identifier: accession member\n",
    "# Output format: genbank\n",
    "# Display format: text\n",
    "handle = Entrez.efetch(db=\"nucleotide\", id=\"NM_001126.2\", rettype=\"gb\", retmode=\"text\")\n",
    "print(handle.read())"
   ]
  },
  {
   "attachments": {},
   "cell_type": "markdown",
   "metadata": {},
   "source": [
    "### Download and explore sequences"
   ]
  },
  {
   "cell_type": "code",
   "execution_count": 11,
   "metadata": {},
   "outputs": [
    {
     "name": "stdout",
     "output_type": "stream",
     "text": [
      "record id: NM_001126.2\n",
      "record name: NM_001126.2\n",
      "record description: NM_001126.2 Homo sapiens adenylosuccinate synthase (ADSS), mRNA\n",
      "sequence length: 2775\n",
      "sequence head: GAAGGGGCGTGGCCTCGGT\n"
     ]
    }
   ],
   "source": [
    "# Data base: nucleotide\n",
    "# Identifier: accession number\n",
    "# Output format: fasta\n",
    "# Display mode: text\n",
    "handle = Entrez.efetch(db=\"nucleotide\", id=\"NM_001126.2\", rettype=\"fasta\", retmode=\"text\")\n",
    "record = SeqIO.read(handle, \"fasta\")\n",
    "\n",
    "print(\"record id:\", record.id)\n",
    "print(\"record name:\", record.name)\n",
    "print(\"record description:\", record.description)\n",
    "\n",
    "seq = record.seq\n",
    "print(\"sequence length:\", len(seq))\n",
    "print(\"sequence head:\", seq[1:20])\n"
   ]
  },
  {
   "cell_type": "code",
   "execution_count": 16,
   "metadata": {},
   "outputs": [
    {
     "name": "stdout",
     "output_type": "stream",
     "text": [
      "record id: NM_001126.2\n",
      "record name: NM_001126\n",
      "record description: Homo sapiens adenylosuccinate synthase (ADSS), mRNA\n",
      "length sequence features: 5\n",
      "sequence features: [SeqFeature(SimpleLocation(ExactPosition(0), ExactPosition(2775), strand=1), type='source', qualifiers=...), SeqFeature(SimpleLocation(ExactPosition(0), ExactPosition(2775), strand=1), type='gene', qualifiers=...), SeqFeature(SimpleLocation(ExactPosition(294), ExactPosition(1665), strand=1), type='CDS', qualifiers=...), SeqFeature(SimpleLocation(ExactPosition(2731), ExactPosition(2737), strand=1), type='regulatory', qualifiers=...), SeqFeature(SimpleLocation(ExactPosition(2756), ExactPosition(2757), strand=1), type='polyA_site', qualifiers=...)]\n",
      "sequence length: 2775\n",
      "sequence head: GAAGGGGCGTGGCCTCGGT\n",
      "False\n"
     ]
    }
   ],
   "source": [
    "# Identifier: accession number\n",
    "# Output format: genbank\n",
    "# Display mode: text\n",
    "# Data base: nucleotide\n",
    "handle = Entrez.efetch(db=\"nucleotide\", id=\"NM_001126.2\", rettype=\"gb\", retmode=\"text\")\n",
    "record = SeqIO.read(handle, \"gb\")\n",
    "\n",
    "print(\"record id:\", record.id)\n",
    "print(\"record name:\", record.name)\n",
    "print(\"record description:\", record.description)\n",
    "\n",
    "features = record.features\n",
    "print(\"length sequence features:\", len(features))\n",
    "print(\"sequence features:\", features)\n",
    "\n",
    "seq = record.seq\n",
    "print(\"sequence length:\", len(seq))\n",
    "print(\"sequence head:\", seq[1:20])\n",
    "\n",
    "# print(seq.startswith(\"GAA\")) # To explore\n"
   ]
  },
  {
   "attachments": {},
   "cell_type": "markdown",
   "metadata": {},
   "source": [
    "### Download multiple genomes"
   ]
  },
  {
   "cell_type": "code",
   "execution_count": 19,
   "metadata": {},
   "outputs": [
    {
     "name": "stdout",
     "output_type": "stream",
     "text": [
      ">NM_001126.2 Homo sapiens adenylosuccinate synthase (ADSS), mRNA\n",
      "GGAAGGGGCGTGGCCTCGGTCCGGGGTGGCGGCCGTTGCCGCCACCAGGGCCTCTTCCTGCGGGCGGTGC\n",
      "TGCCGAGGCCGGCCTGCGCGGGGCAGTCATGGTACCCCCTTGAGCGGGCTGTGGCGGAGAGCGGGGCGGG\n",
      "GACTGGCTGGAGGGTGGCGGCCCGGCGGGGCGGGGGCGGGGCCGGCCTCTGGCTCCTTCTTCCTCTGCAT\n",
      "GTGGCTGGCGGCCGCAGAGCAGTTCAGTTCGCTCACTCCTCGCCGGCCGCCTCTCCTTCGGGCTCTCCTC\n",
      "GCGTCACTGGAGCCATGGCGTTCGCCGAGACCTACCCGGCGGCATCCTCCCTGCCCAACGGCGATTGCGG\n",
      "CCGCCCCAGGGCGCGGCCCGGAGGAAACCGGGTGACGGTGGTGCTCGGTGCGCAGTGGGGCGACGAAGGC\n",
      "AAAGGGAAGGTGGTGGACCTGCTGGCGCAGGACGCCGACATCGTGTGCCGCTGCCAGGGAGGAAATAATG\n",
      "CTGGCCATACAGTTGTTGTGGATTCTGTGGAATATGATTTTCATCTCTTACCCAGTGGAATAATTAATCC\n",
      "AAATGTCACTGCATTCATTGGAAATGGTGTGGTAATTCATCTACCTGGATTGTTTGAAGAAGCAGAGAAA\n",
      "AATGTTCAAAAAGGAAAAGGACTAGAAGGCTGGGAAAAAAGGCTTATTATATCTGACAGAGCTCATATTG\n",
      "TATTTGATTTTCATCAAGCAGCTGATGGTATCCAGGAACAACAGAGACAAGAACAAGCAGGAAAAAATTT\n",
      "GGGTACAACAAAAAAGGGCATTGGCCCAGTTTATTCGTCCAAAGCTGCTCGGAGTGGACTCAGGATGTGC\n",
      "GACCTTGTTTCTGACTTTGATGGCTTCTCTGAGAGGTTTAAAGTTCTAGCTAACCAATACAAATCTATAT\n",
      "ACCCCACTTTGGAAATAGACATTGAAGGTGAATTACAAAAACTCAAGGGTTATATGGAAAAGATTAAACC\n",
      "AATGGTGAGAGATGGAGTTTATTTTCTATATGAGGCCCTACATGGACCACCAAAGAAAATCTTGGTAGAA\n",
      "GGTGCAAATGCAGCACTATTAGATATTGATTTTGGGACTTACCCTTTTGTAACCTCTTCAAATTGTACTG\n",
      "TTGGAGGTGTTTGTACTGGTTTGGGTATGCCACCTCAAAATGTTGGAGAAGTGTATGGAGTTGTGAAAGC\n",
      "TTATACAACTAGAGTTGGTATTGGTGCCTTTCCTACAGAGCAAGACAATGAAATTGGAGAATTATTACAA\n",
      "ACAAGGGGTAGAGAGTTTGGTGTAACTACTGGAAGGAAAAGAAGATGTGGCTGGTTGGACCTCGTTTTGC\n",
      "TCAAATATGCTCATATGATCAATGGATTTACTGCGTTGGCACTTACCAAGTTGGATATTTTGGACATGTT\n",
      "TACGGAAATCAAAGTTGGAGTTGCTTACAAGTTAGATGGTGAAATCATACCTCATATCCCAGCAAACCAA\n",
      "GAAGTCTTAAATAAAGTTGAAGTTCAATATAAGACTCTCCCAGGATGGAACACAGACATATCAAATGCAA\n",
      "GGGCGTTTAAAGAACTACCTGTTAATGCACAAAACTATGTTCGATTTATTGAAGATGAGCTTCAAATTCC\n",
      "AGTTAAGTGGATTGGTGTTGGTAAATCCAGAGAATCTATGATTCAACTCTTTTAATGATTGCCAGTAATG\n",
      "CAAGAAACACTCCTTGAGAGGGAGGGGAAAAGACTTTCTTAAATATTTCATTTATGACCTGCAAATTCAA\n",
      "GAATAAAGACACTGAAGTAAGTTTGAAGCCCTACAGTTGTTTCCAGTCTTTTCAGATGGATGCCTACTGT\n",
      "GGAGATTAACTTTGGCATATTCCAGTGTCAGCTTTCTTTAGCTGGAATTGCCAAATCATTTGTTGCTCCT\n",
      "GCTGCTCTCATGGTGCCACGTTTTTTTTTTCAATGTTTAGTAATAGTATAATCCATGTTGTTTGATATCA\n",
      "AAAGTAGAATTACTTTTAATGTAGTTTTTCTTCATTATTGTCATTGCGTGTTCTTAAGTTTTACCCCTAT\n",
      "TAGATGGTAAGAACAATTAATGCAGTTTTGCACAAATATTTTTACATTCTGATCATTCAGTTCTGTCATT\n",
      "GTAATCTTTGTTGTTAGAAACAAATGATGAAAACATAGGGGTTCTGTAAACTTTTGTAATGCTATGAATT\n",
      "CTGTTTAAATTTTGGGCTGTCTATTTTCTGCTGAAACCATGCAAAATTGAGCTTTGGTGGGGCTGGGAGG\n",
      "GGGTTATGTATTCATGGGACCTTTAATTTGTACAGAACACAGAACTTATTTCTGTCAGTTATTTAATACA\n",
      "TTGAAAATTTAGTGAAATGTTCAAAGAGAATAGATGTTTCCCAAAACAACAATCTTTATGTTAAAAATAG\n",
      "TCATTAAAAGATCTGTTGTAATATATGGTGGATATTTTTCTTTAATTTCAAACATTACCTCTGAAATGTG\n",
      "TATCTTTTCTTTTTTATCTTACCATTAATTTTAAATCTAGTGGATTGGTTTTCAACATCGTGCCTGCCGA\n",
      "TATGCCTACAGAATCATCTGTAAGTGTCAAAATGAACCCACGTTGTTAGCCATAATTTTGATTATGCCTT\n",
      "TATTTCTCCTTTCTTGAAAAAAAAAAGGTGTTATTTTGACAATTAGGCATAACATTGTTTTGTAGATTAT\n",
      "CTTTTAATGAACTATTTTAAATGTTAAATTAGGTGCCACTTAAATTTATTTTATTACACCATGAATAGCT\n",
      "GATTAAAAGAACCAAATATTTCTAGTAAAAAAAAAAAAAAAAAAA\n",
      "\n",
      ">EU490707.1 Selenipedium aequinoctiale maturase K (matK) gene, partial cds; chloroplast\n",
      "ATTTTTTACGAACCTGTGGAAATTTTTGGTTATGACAATAAATCTAGTTTAGTACTTGTGAAACGTTTAA\n",
      "TTACTCGAATGTATCAACAGAATTTTTTGATTTCTTCGGTTAATGATTCTAACCAAAAAGGATTTTGGGG\n",
      "GCACAAGCATTTTTTTTCTTCTCATTTTTCTTCTCAAATGGTATCAGAAGGTTTTGGAGTCATTCTGGAA\n",
      "ATTCCATTCTCGTCGCAATTAGTATCTTCTCTTGAAGAAAAAAAAATACCAAAATATCAGAATTTACGAT\n",
      "CTATTCATTCAATATTTCCCTTTTTAGAAGACAAATTTTTACATTTGAATTATGTGTCAGATCTACTAAT\n",
      "ACCCCATCCCATCCATCTGGAAATCTTGGTTCAAATCCTTCAATGCCGGATCAAGGATGTTCCTTCTTTG\n",
      "CATTTATTGCGATTGCTTTTCCACGAATATCATAATTTGAATAGTCTCATTACTTCAAAGAAATTCATTT\n",
      "ACGCCTTTTCAAAAAGAAAGAAAAGATTCCTTTGGTTACTATATAATTCTTATGTATATGAATGCGAATA\n",
      "TCTATTCCAGTTTCTTCGTAAACAGTCTTCTTATTTACGATCAACATCTTCTGGAGTCTTTCTTGAGCGA\n",
      "ACACATTTATATGTAAAAATAGAACATCTTCTAGTAGTGTGTTGTAATTCTTTTCAGAGGATCCTATGCT\n",
      "TTCTCAAGGATCCTTTCATGCATTATGTTCGATATCAAGGAAAAGCAATTCTGGCTTCAAAGGGAACTCT\n",
      "TATTCTGATGAAGAAATGGAAATTTCATCTTGTGAATTTTTGGCAATCTTATTTTCACTTTTGGTCTCAA\n",
      "CCGTATAGGATTCATATAAAGCAATTATCCAACTATTCCTTCTCTTTTCTGGGGTATTTTTCAAGTGTAC\n",
      "TAGAAAATCATTTGGTAGTAAGAAATCAAATGCTAGAGAATTCATTTATAATAAATCTTCTGACTAAGAA\n",
      "ATTCGATACCATAGCCCCAGTTATTTCTCTTATTGGATCATTGTCGAAAGCTCAATTTTGTACTGTATTG\n",
      "GGTCATCCTATTAGTAAACCGATCTGGACCGATTTCTCGGATTCTGATATTCTTGATCGATTTTGCCGGA\n",
      "TATGTAGAAATCTTTGTCGTTATCACAGCGGATCCTCAAAAAAACAGGTTTTGTATCGTATAAAATATAT\n",
      "ACTTCGACTTTCGTGTGCTAGAACTTTGGCACGGAAACATAAAAGTACAGTACGCACTTTTATGCGAAGA\n",
      "TTAGGTTCGGGATTATTAGAAGAATTCTTTATGGAAGAAGAA\n",
      "\n",
      "\n"
     ]
    }
   ],
   "source": [
    "# Multiple identifiers\n",
    "handle = Entrez.efetch(db=\"nuccore\", id=\"34577062,186972394\", rettype=\"fasta\")\n",
    "print(handle.read())"
   ]
  },
  {
   "cell_type": "code",
   "execution_count": 23,
   "metadata": {},
   "outputs": [
    {
     "name": "stdout",
     "output_type": "stream",
     "text": [
      "number of genomes: 2\n",
      "first record id: NM_001126.2\n"
     ]
    }
   ],
   "source": [
    "handle = Entrez.efetch(db=\"nuccore\", id=\"34577062,186972394\", rettype=\"fasta\")\n",
    "\n",
    "records = SeqIO.parse(handle, \"fasta\")\n",
    "records = [i for i in records]\n",
    "print(\"number of genomes:\", len(records))\n",
    "\n",
    "first_record = records[0]\n",
    "print(\"first record id:\", first_record.id)"
   ]
  },
  {
   "attachments": {},
   "cell_type": "markdown",
   "metadata": {},
   "source": [
    "### Save genomes"
   ]
  },
  {
   "cell_type": "code",
   "execution_count": 24,
   "metadata": {},
   "outputs": [
    {
     "data": {
      "text/plain": [
       "1"
      ]
     },
     "execution_count": 24,
     "metadata": {},
     "output_type": "execute_result"
    }
   ],
   "source": [
    "# Output: genbank\n",
    "handle = Entrez.efetch(db=\"nucleotide\", id=\"34577062\", rettype=\"gb\")\n",
    "record = SeqIO.read(handle, \"gb\")\n",
    "output_name = \"test.gb\"\n",
    "SeqIO.write(record, output_name, \"gb\") # return the number of sequences successfully written"
   ]
  },
  {
   "cell_type": "code",
   "execution_count": 25,
   "metadata": {},
   "outputs": [
    {
     "data": {
      "text/plain": [
       "1"
      ]
     },
     "execution_count": 25,
     "metadata": {},
     "output_type": "execute_result"
    }
   ],
   "source": [
    "# Output: fasta\n",
    "# Output: genbank\n",
    "handle = Entrez.efetch(db=\"nucleotide\", id=\"34577062\", rettype=\"fasta\")\n",
    "record = SeqIO.read(handle, \"fasta\")\n",
    "output_name = \"test.fasta\"\n",
    "SeqIO.write(record, output_name, \"fasta\") # return the number of sequences successfully written"
   ]
  },
  {
   "cell_type": "code",
   "execution_count": 26,
   "metadata": {},
   "outputs": [
    {
     "data": {
      "text/plain": [
       "2"
      ]
     },
     "execution_count": 26,
     "metadata": {},
     "output_type": "execute_result"
    }
   ],
   "source": [
    "# Output: multi fasta\n",
    "# Output: fasta\n",
    "# Output: genbank\n",
    "handle = Entrez.efetch(db=\"nucleotide\", id=\"34577062,186972394\", rettype=\"fasta\")\n",
    "record = SeqIO.parse(handle, \"fasta\")\n",
    "output_name = \"multi_test.fasta\"\n",
    "SeqIO.write(record, output_name, \"fasta\") # return the number of sequences successfully written"
   ]
  },
  {
   "attachments": {},
   "cell_type": "markdown",
   "metadata": {},
   "source": [
    "## Example from: https://www.youtube.com/watch?v=pmYyEsRNt98&ab_channel=BioinformaticsCoach\n"
   ]
  },
  {
   "cell_type": "code",
   "execution_count": null,
   "metadata": {},
   "outputs": [],
   "source": [
    "from Bio import SeqIO\n",
    "\n",
    "file_path = \"\"\n",
    "genbank_object = SeqIO.read(file_path, \"bg\")\n",
    "\n",
    "record_id = genbank_object.id\n",
    "print(record_id)\n",
    "\n",
    "record_name = genbank_object.name\n",
    "print(record_name)\n",
    "\n",
    "record_seq = genbank_object.seq\n",
    "sequence_len = len(record_seq)\n",
    "print(sequence_len)\n",
    "\n",
    "description = genbank_object.description\n",
    "print(description)\n",
    "\n",
    "annotations = genbank_object.annotations\n",
    "print(annotations)\n",
    "\n",
    "features = genbank_object.features\n",
    "feature_types = [feature.type for feature in features]\n",
    "feature_types = set(feature_types)\n",
    "feature_types = list(feature_types) # Remove duplicates\n",
    "print(feature_types)\n",
    "\n",
    "selected_feature_types = feature_types[1:2]\n",
    "print(selected_feature_types)\n",
    "for feature in selected_feature_types:\n",
    "    allfeatures = [i for i in features if i.type==feature]\n",
    "    number_of_features = len(allfeatures)\n",
    "    print(\"%s:%d\"%(feature, number_of_features))"
   ]
  }
 ],
 "metadata": {
  "kernelspec": {
   "display_name": "base",
   "language": "python",
   "name": "python3"
  },
  "language_info": {
   "codemirror_mode": {
    "name": "ipython",
    "version": 3
   },
   "file_extension": ".py",
   "mimetype": "text/x-python",
   "name": "python",
   "nbconvert_exporter": "python",
   "pygments_lexer": "ipython3",
   "version": "3.9.12"
  },
  "orig_nbformat": 4
 },
 "nbformat": 4,
 "nbformat_minor": 2
}
